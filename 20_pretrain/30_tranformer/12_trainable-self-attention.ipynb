{
 "cells": [
  {
   "cell_type": "markdown",
   "id": "bd00fc22",
   "metadata": {},
   "source": [
    "# Trainable Self-attention\n",
    "\n",
    "Inputs"
   ]
  },
  {
   "cell_type": "code",
   "execution_count": 1,
   "id": "dfb16ada",
   "metadata": {},
   "outputs": [],
   "source": [
    "import torch\n",
    "\n",
    "inputs = torch.tensor(\n",
    "  [[0.43, 0.15, 0.89], # Your     (x^1)\n",
    "   [0.55, 0.87, 0.66], # journey  (x^2)\n",
    "   [0.57, 0.85, 0.64], # starts   (x^3)\n",
    "   [0.22, 0.58, 0.33], # with     (x^4)\n",
    "   [0.77, 0.25, 0.10], # one      (x^5)\n",
    "   [0.05, 0.80, 0.55]] # step     (x^6)\n",
    ")\n",
    "\n",
    "x_2 = inputs[1] # second input element\n",
    "\n",
    "d_in = inputs.shape[1] # the input embedding size, d=3\n",
    "d_out = 2 # the output embedding size, d=2"
   ]
  },
  {
   "cell_type": "markdown",
   "id": "be87ddf5",
   "metadata": {},
   "source": [
    "## Q/K/V\n",
    "\n",
    "Initilize Q-K-V Weights"
   ]
  },
  {
   "cell_type": "code",
   "execution_count": 3,
   "id": "93a9984a",
   "metadata": {},
   "outputs": [],
   "source": [
    "torch.manual_seed(123)\n",
    "\n",
    "W_query = torch.nn.Parameter(torch.rand(d_in, d_out), requires_grad=False)\n",
    "W_key   = torch.nn.Parameter(torch.rand(d_in, d_out), requires_grad=False)\n",
    "W_value = torch.nn.Parameter(torch.rand(d_in, d_out), requires_grad=False)"
   ]
  },
  {
   "cell_type": "code",
   "execution_count": 16,
   "id": "1b89c387",
   "metadata": {},
   "outputs": [
    {
     "name": "stdout",
     "output_type": "stream",
     "text": [
      "query_2: tensor([0.4306, 1.4551])\n"
     ]
    }
   ],
   "source": [
    "query_2 = x_2 @ W_query \n",
    "\n",
    "print(\"query_2:\", query_2)"
   ]
  },
  {
   "cell_type": "code",
   "execution_count": 5,
   "id": "f4a69917",
   "metadata": {},
   "outputs": [
    {
     "name": "stdout",
     "output_type": "stream",
     "text": [
      "keys.shape: torch.Size([6, 2])\n",
      "values.shape: torch.Size([6, 2])\n"
     ]
    }
   ],
   "source": [
    "keys = inputs @ W_key \n",
    "values = inputs @ W_value\n",
    "\n",
    "print(\"keys.shape:\", keys.shape)\n",
    "print(\"values.shape:\", values.shape)"
   ]
  },
  {
   "cell_type": "markdown",
   "id": "6b55da32",
   "metadata": {},
   "source": [
    "## Attention Score\n",
    "\n",
    "Elementary calculatin"
   ]
  },
  {
   "cell_type": "code",
   "execution_count": 8,
   "id": "03e52281",
   "metadata": {},
   "outputs": [
    {
     "name": "stdout",
     "output_type": "stream",
     "text": [
      "attn_score_22: tensor(1.8524)\n"
     ]
    }
   ],
   "source": [
    "keys_2 = keys[1] \n",
    "attn_score_22 = query_2.dot(keys_2)\n",
    "\n",
    "print(\"attn_score_22:\", attn_score_22)"
   ]
  },
  {
   "cell_type": "markdown",
   "id": "7cd6c5cf",
   "metadata": {},
   "source": [
    "Attention scores of inputs[2] for all the keys"
   ]
  },
  {
   "cell_type": "code",
   "execution_count": 9,
   "id": "084dae96",
   "metadata": {},
   "outputs": [
    {
     "name": "stdout",
     "output_type": "stream",
     "text": [
      "All attention scores for given query input[1]:  tensor([1.2705, 1.8524, 1.8111, 1.0795, 0.5577, 1.5440])\n"
     ]
    }
   ],
   "source": [
    "attn_scores_2 = query_2 @ keys.T # All attention scores for given query\n",
    "\n",
    "print(\"All attention scores for given query input[1]: \", attn_scores_2)"
   ]
  },
  {
   "cell_type": "markdown",
   "id": "f1a4c607",
   "metadata": {},
   "source": [
    "## Attension Weight"
   ]
  },
  {
   "cell_type": "code",
   "execution_count": 10,
   "id": "29c4bdc2",
   "metadata": {},
   "outputs": [
    {
     "name": "stdout",
     "output_type": "stream",
     "text": [
      "Attension Weight for inputs[2]:  tensor([0.1500, 0.2264, 0.2199, 0.1311, 0.0906, 0.1820])\n"
     ]
    }
   ],
   "source": [
    "d_k = keys.shape[1]\n",
    "attn_weights_2 = torch.softmax(attn_scores_2 / d_k**0.5, dim=-1)\n",
    "\n",
    "print(\"Attension Weight for inputs[2]: \", attn_weights_2)"
   ]
  },
  {
   "cell_type": "markdown",
   "id": "5e8857f1",
   "metadata": {},
   "source": [
    "## Context \n",
    "\n",
    "### Manuel Calculation"
   ]
  },
  {
   "cell_type": "code",
   "execution_count": 12,
   "id": "1ce520d4",
   "metadata": {},
   "outputs": [
    {
     "name": "stdout",
     "output_type": "stream",
     "text": [
      "Context Vector for inputs[1]:  tensor([0.3061, 0.8210])\n"
     ]
    }
   ],
   "source": [
    "context_vec_2 = attn_weights_2 @ values\n",
    "\n",
    "print(\"Context Vector for inputs[1]: \", context_vec_2)"
   ]
  },
  {
   "cell_type": "markdown",
   "id": "b62e3239",
   "metadata": {},
   "source": [
    "### Self-Attention class"
   ]
  },
  {
   "cell_type": "code",
   "execution_count": 17,
   "id": "054bfa3f",
   "metadata": {},
   "outputs": [
    {
     "name": "stdout",
     "output_type": "stream",
     "text": [
      "Context Vector for the whole inputs: \n",
      " tensor([[0.2996, 0.8053],\n",
      "        [0.3061, 0.8210],\n",
      "        [0.3058, 0.8203],\n",
      "        [0.2948, 0.7939],\n",
      "        [0.2927, 0.7891],\n",
      "        [0.2990, 0.8040]], grad_fn=<MmBackward0>)\n"
     ]
    }
   ],
   "source": [
    "import torch.nn as nn\n",
    "\n",
    "class SelfAttention_v1(nn.Module):\n",
    "\n",
    "    def __init__(self, d_in, d_out):\n",
    "        super().__init__()\n",
    "        self.W_query = nn.Parameter(torch.rand(d_in, d_out))\n",
    "        self.W_key   = nn.Parameter(torch.rand(d_in, d_out))\n",
    "        self.W_value = nn.Parameter(torch.rand(d_in, d_out))\n",
    "\n",
    "    def forward(self, x):\n",
    "        queries = x @ self.W_query\n",
    "        keys = x @ self.W_key\n",
    "        values = x @ self.W_value\n",
    "        \n",
    "        attn_scores = queries @ keys.T # omega\n",
    "        attn_weights = torch.softmax(\n",
    "            attn_scores / keys.shape[-1]**0.5, dim=-1\n",
    "        )\n",
    "        context_vec = attn_weights @ values\n",
    "        return context_vec\n",
    "\n",
    "torch.manual_seed(123)\n",
    "\n",
    "sa_v1 = SelfAttention_v1(d_in, d_out)\n",
    "\n",
    "print(\"Context Vector for the whole inputs: \\n\", sa_v1(inputs))"
   ]
  },
  {
   "cell_type": "markdown",
   "id": "139307f2",
   "metadata": {},
   "source": [
    "### Class V2"
   ]
  },
  {
   "cell_type": "code",
   "execution_count": 19,
   "id": "9ddab9b5",
   "metadata": {},
   "outputs": [
    {
     "name": "stdout",
     "output_type": "stream",
     "text": [
      "Context Vector for the whole inputs: \n",
      " tensor([[-0.0739,  0.0713],\n",
      "        [-0.0748,  0.0703],\n",
      "        [-0.0749,  0.0702],\n",
      "        [-0.0760,  0.0685],\n",
      "        [-0.0763,  0.0679],\n",
      "        [-0.0754,  0.0693]], grad_fn=<MmBackward0>)\n"
     ]
    }
   ],
   "source": [
    "class SelfAttention_v2(nn.Module):\n",
    "    def __init__(self, d_in, d_out, qkv_bias=False):\n",
    "        super().__init__()\n",
    "        self.W_query = nn.Linear(d_in, d_out, bias=qkv_bias)\n",
    "        self.W_key   = nn.Linear(d_in, d_out, bias=qkv_bias)\n",
    "        self.W_value = nn.Linear(d_in, d_out, bias=qkv_bias)\n",
    "\n",
    "    def forward(self, x):\n",
    "        queries = self.W_query(x)\n",
    "        keys = self.W_key(x)\n",
    "        values = self.W_value(x)\n",
    "        \n",
    "        attn_scores = queries @ keys.T\n",
    "        attn_weights = torch.softmax(attn_scores / keys.shape[-1]**0.5, dim=-1)\n",
    "        context_vec = attn_weights @ values\n",
    "        return context_vec\n",
    "\n",
    "torch.manual_seed(789)\n",
    "\n",
    "sa_v2 = SelfAttention_v2(d_in, d_out)\n",
    "\n",
    "print(\"Context Vector for the whole inputs: \\n\", sa_v2(inputs))"
   ]
  },
  {
   "cell_type": "markdown",
   "id": "7be3df29",
   "metadata": {},
   "source": []
  }
 ],
 "metadata": {
  "kernelspec": {
   "display_name": "venv",
   "language": "python",
   "name": "python3"
  },
  "language_info": {
   "codemirror_mode": {
    "name": "ipython",
    "version": 3
   },
   "file_extension": ".py",
   "mimetype": "text/x-python",
   "name": "python",
   "nbconvert_exporter": "python",
   "pygments_lexer": "ipython3",
   "version": "3.11.11"
  }
 },
 "nbformat": 4,
 "nbformat_minor": 5
}
