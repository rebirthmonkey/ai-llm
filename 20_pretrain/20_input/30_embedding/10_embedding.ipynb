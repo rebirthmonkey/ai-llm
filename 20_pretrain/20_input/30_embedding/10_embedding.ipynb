{
 "cells": [
  {
   "cell_type": "markdown",
   "id": "5477ba7c",
   "metadata": {},
   "source": [
    "# Embedding\n",
    "\n",
    "Add 1 nn layer"
   ]
  },
  {
   "cell_type": "code",
   "execution_count": 16,
   "id": "f12879b1",
   "metadata": {},
   "outputs": [
    {
     "name": "stdout",
     "output_type": "stream",
     "text": [
      "embedding_layer.shape:  torch.Size([6, 3])\n",
      "embedding_layer.weight:  Parameter containing:\n",
      "tensor([[ 0.3374, -0.1778, -0.1690],\n",
      "        [ 0.9178,  1.5810,  1.3010],\n",
      "        [ 1.2753, -0.2010, -0.1606],\n",
      "        [-0.4015,  0.9666, -1.1481],\n",
      "        [-1.1589,  0.3255, -0.6315],\n",
      "        [-2.8400, -0.7849, -1.4096]], requires_grad=True)\n"
     ]
    }
   ],
   "source": [
    "import torch\n",
    "\n",
    "torch.manual_seed(123)\n",
    "\n",
    "vocab_size = 6\n",
    "output_dim = 3\n",
    "embedding_layer = torch.nn.Embedding(vocab_size, output_dim)\n",
    "\n",
    "print(\"embedding_layer.shape: \", embedding_layer.weight.shape)\n",
    "print(\"embedding_layer.weight: \", embedding_layer.weight)"
   ]
  },
  {
   "cell_type": "code",
   "execution_count": 17,
   "id": "89d3b7d1",
   "metadata": {},
   "outputs": [
    {
     "name": "stdout",
     "output_type": "stream",
     "text": [
      "embedding_layer(input_ids).shape:  torch.Size([4, 3])\n",
      "embedding_layer(input_ids):  tensor([[ 1.2753, -0.2010, -0.1606],\n",
      "        [-0.4015,  0.9666, -1.1481],\n",
      "        [-2.8400, -0.7849, -1.4096],\n",
      "        [ 0.9178,  1.5810,  1.3010]], grad_fn=<EmbeddingBackward0>)\n"
     ]
    }
   ],
   "source": [
    "input_ids = torch.tensor([2, 3, 5, 1])\n",
    "\n",
    "print(\"embedding_layer(input_ids).shape: \", embedding_layer(input_ids).shape)\n",
    "print(\"embedding_layer(input_ids): \", embedding_layer(input_ids))"
   ]
  },
  {
   "cell_type": "markdown",
   "id": "e4d50918",
   "metadata": {},
   "source": [
    "## Position Encoding"
   ]
  },
  {
   "cell_type": "markdown",
   "id": "0ed96b3a",
   "metadata": {},
   "source": [
    "Load text in using the previous code"
   ]
  },
  {
   "cell_type": "code",
   "execution_count": 19,
   "id": "38223eb9",
   "metadata": {},
   "outputs": [
    {
     "name": "stdout",
     "output_type": "stream",
     "text": [
      "Inputs Token shape:\n",
      " torch.Size([8, 4])\n",
      "\n",
      "Input Token IDs:\n",
      " tensor([[   40,   367,  2885,  1464],\n",
      "        [ 1807,  3619,   402,   271],\n",
      "        [10899,  2138,   257,  7026],\n",
      "        [15632,   438,  2016,   257],\n",
      "        [  922,  5891,  1576,   438],\n",
      "        [  568,   340,   373,   645],\n",
      "        [ 1049,  5975,   284,   502],\n",
      "        [  284,  3285,   326,    11]])\n"
     ]
    }
   ],
   "source": [
    "import os\n",
    "from dotenv import load_dotenv\n",
    "\n",
    "load_dotenv()\n",
    "dataset_dir = os.getenv(\"DATASET_PATH\")\n",
    "file_path = os.path.join(dataset_dir, \"the-verdict.txt\")\n",
    "\n",
    "with open(file_path, \"r\", encoding=\"utf-8\") as f:\n",
    "    raw_text = f.read()\n",
    "\n",
    "\n",
    "import tiktoken\n",
    "\n",
    "tokenizer = tiktoken.get_encoding(\"gpt2\")\n",
    "enc_text = tokenizer.encode(raw_text)\n",
    "\n",
    "\n",
    "from torch.utils.data import Dataset, DataLoader\n",
    "\n",
    "class GPTDatasetV1(Dataset):\n",
    "    def __init__(self, txt, tokenizer, max_length, stride):\n",
    "        self.input_ids = []\n",
    "        self.target_ids = []\n",
    "\n",
    "        # Tokenize the entire text\n",
    "        token_ids = tokenizer.encode(txt, allowed_special={\"<|endoftext|>\"})\n",
    "        assert len(token_ids) > max_length, \"Number of tokenized inputs must at least be equal to max_length+1\"\n",
    "\n",
    "        # Use a sliding window to chunk the book into overlapping sequences of max_length\n",
    "        for i in range(0, len(token_ids) - max_length, stride):\n",
    "            input_chunk = token_ids[i:i + max_length]\n",
    "            target_chunk = token_ids[i + 1: i + max_length + 1]\n",
    "            self.input_ids.append(torch.tensor(input_chunk))\n",
    "            self.target_ids.append(torch.tensor(target_chunk))\n",
    "\n",
    "    def __len__(self):\n",
    "        return len(self.input_ids)\n",
    "\n",
    "    def __getitem__(self, idx):\n",
    "        return self.input_ids[idx], self.target_ids[idx]\n",
    "\n",
    "\n",
    "def create_dataloader_v1(txt, batch_size=4, max_length=256, \n",
    "                         stride=128, shuffle=True, drop_last=True,\n",
    "                         num_workers=0):\n",
    "\n",
    "    # Initialize the tokenizer\n",
    "    tokenizer = tiktoken.get_encoding(\"gpt2\")\n",
    "\n",
    "    # Create dataset\n",
    "    dataset = GPTDatasetV1(txt, tokenizer, max_length, stride)\n",
    "\n",
    "    # Create dataloader\n",
    "    dataloader = DataLoader(\n",
    "        dataset,\n",
    "        batch_size=batch_size,\n",
    "        shuffle=shuffle,\n",
    "        drop_last=drop_last,\n",
    "        num_workers=num_workers\n",
    "    )\n",
    "\n",
    "    return dataloader\n",
    "\n",
    "max_length = 4\n",
    "dataloader = create_dataloader_v1(\n",
    "    raw_text, batch_size=8, max_length=max_length,\n",
    "    stride=max_length, shuffle=False\n",
    ")\n",
    "data_iter = iter(dataloader)\n",
    "inputs, targets = next(data_iter)\n",
    "\n",
    "print(\"Inputs Token shape:\\n\", inputs.shape)\n",
    "print(\"\\nInput Token IDs:\\n\", inputs)"
   ]
  },
  {
   "cell_type": "markdown",
   "id": "0a19abe5",
   "metadata": {},
   "source": [
    "setup the Token Embedding Layer"
   ]
  },
  {
   "cell_type": "code",
   "execution_count": 25,
   "id": "2005b285",
   "metadata": {},
   "outputs": [
    {
     "name": "stdout",
     "output_type": "stream",
     "text": [
      "token_embedding_layer.shape:  torch.Size([50257, 256])\n",
      "token_embedding_layer.weight:  Parameter containing:\n",
      "tensor([[-0.9669,  0.6712, -0.9405,  ..., -0.5670, -0.2658, -1.1116],\n",
      "        [ 0.4573, -2.0515, -1.6125,  ..., -0.7737,  0.0753,  0.5233],\n",
      "        [-0.2805,  0.1652, -0.7465,  ...,  0.2864,  0.1072,  0.3312],\n",
      "        ...,\n",
      "        [-0.7341, -1.6871, -0.5628,  ..., -2.3785, -0.3345, -1.3539],\n",
      "        [-0.5672, -1.8570, -0.7118,  ...,  0.2582,  0.2064, -0.3771],\n",
      "        [-0.4862, -0.4990,  0.6122,  ...,  0.9440, -0.1298, -0.1704]],\n",
      "       requires_grad=True)\n"
     ]
    }
   ],
   "source": [
    "vocab_size = 50257\n",
    "output_dim = 256\n",
    "token_embedding_layer = torch.nn.Embedding(vocab_size, output_dim)\n",
    "\n",
    "print(\"token_embedding_layer.shape: \", token_embedding_layer.weight.shape)\n",
    "print(\"token_embedding_layer.weight: \", token_embedding_layer.weight)"
   ]
  },
  {
   "cell_type": "markdown",
   "id": "73bc96f9",
   "metadata": {},
   "source": [
    "use the token embedding layer"
   ]
  },
  {
   "cell_type": "code",
   "execution_count": 26,
   "id": "d254bf86",
   "metadata": {},
   "outputs": [
    {
     "name": "stdout",
     "output_type": "stream",
     "text": [
      "token_embeddings.shape:  torch.Size([8, 4, 256])\n"
     ]
    }
   ],
   "source": [
    "token_embeddings = token_embedding_layer(inputs)\n",
    "\n",
    "print(\"token_embeddings.shape: \", token_embeddings.shape)"
   ]
  },
  {
   "cell_type": "markdown",
   "id": "4f1205ff",
   "metadata": {},
   "source": [
    "setup the Positional Embedding Layer"
   ]
  },
  {
   "cell_type": "code",
   "execution_count": 27,
   "id": "9f7d9d43",
   "metadata": {},
   "outputs": [
    {
     "name": "stdout",
     "output_type": "stream",
     "text": [
      "pos_embeddings.shape:  torch.Size([4, 256])\n",
      "pos_embeddings:  tensor([[-1.3132,  1.7849,  1.7399,  ...,  2.4390,  0.3164, -0.0337],\n",
      "        [-0.5747, -1.0442, -1.6610,  ..., -0.4074, -0.7294, -0.0788],\n",
      "        [ 0.5618, -0.4305,  0.1779,  ..., -0.7375, -0.2083,  0.3547],\n",
      "        [-0.4516, -0.2100,  1.0609,  ..., -0.7244, -3.0794,  0.6927]],\n",
      "       grad_fn=<EmbeddingBackward0>)\n"
     ]
    }
   ],
   "source": [
    "context_length = max_length\n",
    "\n",
    "pos_embedding_layer = torch.nn.Embedding(context_length, output_dim)\n",
    "pos_embeddings = pos_embedding_layer(torch.arange(max_length))\n",
    "\n",
    "print(\"pos_embeddings.shape: \", pos_embeddings.shape)\n",
    "print(\"pos_embeddings: \", pos_embeddings)"
   ]
  },
  {
   "cell_type": "code",
   "execution_count": 28,
   "id": "a1355ce3",
   "metadata": {},
   "outputs": [
    {
     "name": "stdout",
     "output_type": "stream",
     "text": [
      "input_embeddings.shape:  torch.Size([8, 4, 256])\n"
     ]
    }
   ],
   "source": [
    "input_embeddings = token_embeddings + pos_embeddings\n",
    "\n",
    "print(\"input_embeddings.shape: \", input_embeddings.shape)"
   ]
  },
  {
   "cell_type": "code",
   "execution_count": null,
   "id": "5b1153d1",
   "metadata": {},
   "outputs": [],
   "source": []
  },
  {
   "cell_type": "markdown",
   "id": "f21f7957",
   "metadata": {},
   "source": []
  }
 ],
 "metadata": {
  "kernelspec": {
   "display_name": "venv",
   "language": "python",
   "name": "python3"
  },
  "language_info": {
   "codemirror_mode": {
    "name": "ipython",
    "version": 3
   },
   "file_extension": ".py",
   "mimetype": "text/x-python",
   "name": "python",
   "nbconvert_exporter": "python",
   "pygments_lexer": "ipython3",
   "version": "3.11.11"
  }
 },
 "nbformat": 4,
 "nbformat_minor": 5
}
