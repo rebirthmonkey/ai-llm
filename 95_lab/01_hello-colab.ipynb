{
  "cells": [
    {
      "cell_type": "markdown",
      "source": [
        "# Colab HelloWorld"
      ],
      "metadata": {
        "id": "PPJoR_RUfErL"
      },
      "id": "PPJoR_RUfErL"
    },
    {
      "cell_type": "code",
      "source": [
        "print(\"hellow world\")"
      ],
      "metadata": {
        "id": "fByS8f08fJ28",
        "colab": {
          "base_uri": "https://localhost:8080/"
        },
        "executionInfo": {
          "status": "ok",
          "timestamp": 1757740923265,
          "user_tz": -480,
          "elapsed": 467,
          "user": {
            "displayName": "",
            "userId": ""
          }
        },
        "outputId": "0c79894d-59d0-4a7e-fbf4-5af18ba9719c"
      },
      "id": "fByS8f08fJ28",
      "execution_count": 1,
      "outputs": [
        {
          "output_type": "stream",
          "name": "stdout",
          "text": [
            "hellow world\n"
          ]
        }
      ]
    },
    {
      "cell_type": "code",
      "source": [
        "gpu_info = !nvidia-smi"
      ],
      "metadata": {
        "id": "zB06s0oXfMdr",
        "executionInfo": {
          "status": "ok",
          "timestamp": 1757741313530,
          "user_tz": -480,
          "elapsed": 156,
          "user": {
            "displayName": "",
            "userId": ""
          }
        }
      },
      "id": "zB06s0oXfMdr",
      "execution_count": 2,
      "outputs": []
    },
    {
      "cell_type": "code",
      "source": [
        "gpu_info = '\\n'.join(gpu_info)\n",
        "print(gpu_info)"
      ],
      "metadata": {
        "colab": {
          "base_uri": "https://localhost:8080/"
        },
        "id": "SBgNe42ai-ch",
        "executionInfo": {
          "status": "ok",
          "timestamp": 1757741366509,
          "user_tz": -480,
          "elapsed": 3,
          "user": {
            "displayName": "",
            "userId": ""
          }
        },
        "outputId": "cd9cc2c4-187d-48f7-eff7-9f337386b3f7"
      },
      "id": "SBgNe42ai-ch",
      "execution_count": 4,
      "outputs": [
        {
          "output_type": "stream",
          "name": "stdout",
          "text": [
            "Sat Sep 13 05:29:01 2025       \n",
            "+-----------------------------------------------------------------------------------------+\n",
            "| NVIDIA-SMI 580.65.06              Driver Version: 580.65.06      CUDA Version: 13.0     |\n",
            "+-----------------------------------------+------------------------+----------------------+\n",
            "| GPU  Name                 Persistence-M | Bus-Id          Disp.A | Volatile Uncorr. ECC |\n",
            "| Fan  Temp   Perf          Pwr:Usage/Cap |           Memory-Usage | GPU-Util  Compute M. |\n",
            "|                                         |                        |               MIG M. |\n",
            "|=========================================+========================+======================|\n",
            "|   0  NVIDIA L4                      Off |   00000000:00:03.0 Off |                    0 |\n",
            "| N/A   40C    P8             12W /   72W |       0MiB /  23034MiB |      0%      Default |\n",
            "|                                         |                        |                  N/A |\n",
            "+-----------------------------------------+------------------------+----------------------+\n",
            "\n",
            "+-----------------------------------------------------------------------------------------+\n",
            "| Processes:                                                                              |\n",
            "|  GPU   GI   CI              PID   Type   Process name                        GPU Memory |\n",
            "|        ID   ID                                                               Usage      |\n",
            "|=========================================================================================|\n",
            "|  No running processes found                                                             |\n",
            "+-----------------------------------------------------------------------------------------+\n"
          ]
        }
      ]
    },
    {
      "cell_type": "code",
      "source": [],
      "metadata": {
        "id": "tJzQL3ANjDxi"
      },
      "id": "tJzQL3ANjDxi",
      "execution_count": null,
      "outputs": []
    }
  ],
  "metadata": {
    "kernelspec": {
      "display_name": "Python 3",
      "language": "python",
      "name": "python3"
    },
    "language_info": {
      "codemirror_mode": {
        "name": "ipython",
        "version": 3
      },
      "file_extension": ".py",
      "mimetype": "text/x-python",
      "name": "python",
      "nbconvert_exporter": "python",
      "pygments_lexer": "ipython3",
      "version": "3.10.10"
    },
    "colab": {
      "provenance": [],
      "name": "01_helloworld",
      "gpuType": "L4"
    },
    "accelerator": "GPU"
  },
  "nbformat": 4,
  "nbformat_minor": 5
}