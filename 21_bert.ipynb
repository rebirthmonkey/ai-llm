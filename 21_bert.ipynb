{
 "cells": [
  {
   "cell_type": "markdown",
   "id": "9a594610",
   "metadata": {
    "origin_pos": 0
   },
   "source": [
    "# BERT\n"
   ]
  },
  {
   "cell_type": "code",
   "execution_count": 1,
   "id": "32800dec",
   "metadata": {
    "execution": {
     "iopub.execute_input": "2022-12-07T16:56:19.941286Z",
     "iopub.status.busy": "2022-12-07T16:56:19.940587Z",
     "iopub.status.idle": "2022-12-07T16:56:22.460017Z",
     "shell.execute_reply": "2022-12-07T16:56:22.458921Z"
    },
    "origin_pos": 2,
    "tab": [
     "pytorch"
    ],
    "ExecuteTime": {
     "end_time": "2023-10-08T02:07:17.420075Z",
     "start_time": "2023-10-08T02:07:14.480331Z"
    }
   },
   "outputs": [],
   "source": [
    "import torch\n",
    "from torch import nn\n",
    "from d2l import torch as d2l"
   ]
  },
  {
   "cell_type": "markdown",
   "id": "92cb01fa",
   "metadata": {
    "origin_pos": 4
   },
   "source": [
    "## 输入表示\n",
    "\n",
    "下面的`get_tokens_and_segments`将一个句子或两个句子作为输入，然后返回BERT输入序列的标记及其相应的片段索引。\n"
   ]
  },
  {
   "cell_type": "code",
   "execution_count": 2,
   "id": "50723be8",
   "metadata": {
    "execution": {
     "iopub.execute_input": "2022-12-07T16:56:22.466115Z",
     "iopub.status.busy": "2022-12-07T16:56:22.465368Z",
     "iopub.status.idle": "2022-12-07T16:56:22.471349Z",
     "shell.execute_reply": "2022-12-07T16:56:22.470371Z"
    },
    "origin_pos": 5,
    "tab": [
     "pytorch"
    ],
    "ExecuteTime": {
     "end_time": "2023-10-08T02:08:05.408466Z",
     "start_time": "2023-10-08T02:08:05.385727Z"
    }
   },
   "outputs": [],
   "source": [
    "#@save\n",
    "def get_tokens_and_segments(tokens_a, tokens_b=None):\n",
    "    \"\"\"获取输入序列的词元及其片段索引\"\"\"\n",
    "    tokens = ['<cls>'] + tokens_a + ['<sep>']\n",
    "    # 0和1分别标记片段A和B\n",
    "    segments = [0] * (len(tokens_a) + 2)\n",
    "    if tokens_b is not None:\n",
    "        tokens += tokens_b + ['<sep>']\n",
    "        segments += [1] * (len(tokens_b) + 1)\n",
    "    return tokens, segments"
   ]
  },
  {
   "cell_type": "markdown",
   "id": "57c25f36",
   "metadata": {
    "origin_pos": 6
   },
   "source": [
    "BERT选择Transformer编码器作为其双向架构。在Transformer编码器中常见是，位置嵌入被加入到输入序列的每个位置。然而，与原始的Transformer编码器不同，BERT使用可学习的位置嵌入。总之， \n",
    "BERT输入序列的嵌入是词元嵌入、片段嵌入和位置嵌入的和。\n",
    "\n",
    "下面的`BERTEncoder`类类似于`TransformerEncoder`类。与`TransformerEncoder`不同，`BERTEncoder`使用片段嵌入和可学习的位置嵌入。\n"
   ]
  },
  {
   "cell_type": "code",
   "execution_count": 3,
   "id": "7a529bc3",
   "metadata": {
    "execution": {
     "iopub.execute_input": "2022-12-07T16:56:22.476227Z",
     "iopub.status.busy": "2022-12-07T16:56:22.475780Z",
     "iopub.status.idle": "2022-12-07T16:56:22.484155Z",
     "shell.execute_reply": "2022-12-07T16:56:22.483200Z"
    },
    "origin_pos": 8,
    "tab": [
     "pytorch"
    ],
    "ExecuteTime": {
     "end_time": "2023-10-08T02:09:42.150007Z",
     "start_time": "2023-10-08T02:09:42.134292Z"
    }
   },
   "outputs": [],
   "source": [
    "#@save\n",
    "class BERTEncoder(nn.Module):\n",
    "    \"\"\"BERT编码器\"\"\"\n",
    "    def __init__(self, vocab_size, num_hiddens, norm_shape, ffn_num_input,\n",
    "                 ffn_num_hiddens, num_heads, num_layers, dropout,\n",
    "                 max_len=1000, key_size=768, query_size=768, value_size=768,\n",
    "                 **kwargs):\n",
    "        super(BERTEncoder, self).__init__(**kwargs)\n",
    "        self.token_embedding = nn.Embedding(vocab_size, num_hiddens)\n",
    "        self.segment_embedding = nn.Embedding(2, num_hiddens)\n",
    "        self.blks = nn.Sequential()\n",
    "        for i in range(num_layers):\n",
    "            self.blks.add_module(f\"{i}\", d2l.EncoderBlock(\n",
    "                key_size, query_size, value_size, num_hiddens, norm_shape,\n",
    "                ffn_num_input, ffn_num_hiddens, num_heads, dropout, True))\n",
    "        # 在BERT中，位置嵌入是可学习的，因此我们创建一个足够长的位置嵌入参数\n",
    "        self.pos_embedding = nn.Parameter(torch.randn(1, max_len,\n",
    "                                                      num_hiddens))\n",
    "\n",
    "    def forward(self, tokens, segments, valid_lens):\n",
    "        # 在以下代码段中，X的形状保持不变：（批量大小，最大序列长度，num_hiddens）\n",
    "        X = self.token_embedding(tokens) + self.segment_embedding(segments)\n",
    "        X = X + self.pos_embedding.data[:, :X.shape[1], :]\n",
    "        for blk in self.blks:\n",
    "            X = blk(X, valid_lens)\n",
    "        return X"
   ]
  },
  {
   "cell_type": "markdown",
   "id": "663e5823",
   "metadata": {
    "origin_pos": 10
   },
   "source": [
    "假设词表大小为10000，为了演示`BERTEncoder`的前向推断，让我们创建一个实例并初始化它的参数。\n"
   ]
  },
  {
   "cell_type": "code",
   "execution_count": 4,
   "id": "30231902",
   "metadata": {
    "execution": {
     "iopub.execute_input": "2022-12-07T16:56:22.489125Z",
     "iopub.status.busy": "2022-12-07T16:56:22.488425Z",
     "iopub.status.idle": "2022-12-07T16:56:22.677668Z",
     "shell.execute_reply": "2022-12-07T16:56:22.676539Z"
    },
    "origin_pos": 12,
    "tab": [
     "pytorch"
    ],
    "ExecuteTime": {
     "end_time": "2023-10-08T02:09:50.715317Z",
     "start_time": "2023-10-08T02:09:50.580282Z"
    }
   },
   "outputs": [],
   "source": [
    "vocab_size, num_hiddens, ffn_num_hiddens, num_heads = 10000, 768, 1024, 4\n",
    "norm_shape, ffn_num_input, num_layers, dropout = [768], 768, 2, 0.2\n",
    "encoder = BERTEncoder(vocab_size, num_hiddens, norm_shape, ffn_num_input,\n",
    "                      ffn_num_hiddens, num_heads, num_layers, dropout)"
   ]
  },
  {
   "cell_type": "markdown",
   "id": "c1874890",
   "metadata": {
    "origin_pos": 13
   },
   "source": [
    "我们将`tokens`定义为长度为8的2个输入序列，其中每个词元是词表的索引。使用输入`tokens`的`BERTEncoder`的前向推断返回编码结果，其中每个词元由向量表示，其长度由超参数`num_hiddens`定义。此超参数通常称为Transformer编码器的*隐藏大小*（隐藏单元数）。\n"
   ]
  },
  {
   "cell_type": "code",
   "execution_count": 5,
   "id": "063374fe",
   "metadata": {
    "execution": {
     "iopub.execute_input": "2022-12-07T16:56:22.681381Z",
     "iopub.status.busy": "2022-12-07T16:56:22.681005Z",
     "iopub.status.idle": "2022-12-07T16:56:22.708025Z",
     "shell.execute_reply": "2022-12-07T16:56:22.707192Z"
    },
    "origin_pos": 15,
    "tab": [
     "pytorch"
    ],
    "ExecuteTime": {
     "end_time": "2023-10-08T02:10:00.563252Z",
     "start_time": "2023-10-08T02:10:00.526023Z"
    }
   },
   "outputs": [
    {
     "data": {
      "text/plain": "torch.Size([2, 8, 768])"
     },
     "execution_count": 5,
     "metadata": {},
     "output_type": "execute_result"
    }
   ],
   "source": [
    "tokens = torch.randint(0, vocab_size, (2, 8))\n",
    "segments = torch.tensor([[0, 0, 0, 0, 1, 1, 1, 1], [0, 0, 0, 1, 1, 1, 1, 1]])\n",
    "encoded_X = encoder(tokens, segments, None)\n",
    "encoded_X.shape"
   ]
  },
  {
   "cell_type": "markdown",
   "id": "cd316724",
   "metadata": {
    "origin_pos": 17
   },
   "source": [
    "## 预训练任务\n",
    "\n",
    "`BERTEncoder`的前向推断给出了输入文本的每个词元和插入的特殊标记“&lt;cls&gt;”及“&lt;seq&gt;”的BERT表示。接下来，我们将使用这些表示来计算预训练BERT的损失函数。\n",
    "\n",
    "预训练包括以下两个任务：掩蔽语言模型和下一句预测。\n",
    "\n",
    "### 掩蔽语言模型（Masked Language Modeling）\n",
    "\n",
    "我们实现了下面的`MaskLM`类来预测BERT预训练的掩蔽语言模型任务中的掩蔽标记。预测使用单隐藏层的多层感知机（`self.mlp`）。在前向推断中，它需要两个输入：`BERTEncoder`的编码结果和用于预测的词元位置。输出是这些位置的预测结果。\n"
   ]
  },
  {
   "cell_type": "code",
   "execution_count": 6,
   "id": "ca436989",
   "metadata": {
    "execution": {
     "iopub.execute_input": "2022-12-07T16:56:22.714056Z",
     "iopub.status.busy": "2022-12-07T16:56:22.713500Z",
     "iopub.status.idle": "2022-12-07T16:56:22.720580Z",
     "shell.execute_reply": "2022-12-07T16:56:22.719798Z"
    },
    "origin_pos": 19,
    "tab": [
     "pytorch"
    ],
    "ExecuteTime": {
     "end_time": "2023-10-08T02:11:32.116680Z",
     "start_time": "2023-10-08T02:11:32.109194Z"
    }
   },
   "outputs": [],
   "source": [
    "#@save\n",
    "class MaskLM(nn.Module):\n",
    "    \"\"\"BERT的掩蔽语言模型任务\"\"\"\n",
    "    def __init__(self, vocab_size, num_hiddens, num_inputs=768, **kwargs):\n",
    "        super(MaskLM, self).__init__(**kwargs)\n",
    "        self.mlp = nn.Sequential(nn.Linear(num_inputs, num_hiddens),\n",
    "                                 nn.ReLU(),\n",
    "                                 nn.LayerNorm(num_hiddens),\n",
    "                                 nn.Linear(num_hiddens, vocab_size))\n",
    "\n",
    "    def forward(self, X, pred_positions):\n",
    "        num_pred_positions = pred_positions.shape[1]\n",
    "        pred_positions = pred_positions.reshape(-1)\n",
    "        batch_size = X.shape[0]\n",
    "        batch_idx = torch.arange(0, batch_size)\n",
    "        # 假设batch_size=2，num_pred_positions=3\n",
    "        # 那么batch_idx是np.array（[0,0,0,1,1,1]）\n",
    "        batch_idx = torch.repeat_interleave(batch_idx, num_pred_positions)\n",
    "        masked_X = X[batch_idx, pred_positions]\n",
    "        masked_X = masked_X.reshape((batch_size, num_pred_positions, -1))\n",
    "        mlm_Y_hat = self.mlp(masked_X)\n",
    "        return mlm_Y_hat"
   ]
  },
  {
   "cell_type": "markdown",
   "id": "7cc7cd7f",
   "metadata": {
    "origin_pos": 21
   },
   "source": [
    "为了演示`MaskLM`的前向推断，我们创建了其实例`mlm`并对其进行了初始化。回想一下，来自`BERTEncoder`的正向推断`encoded_X`表示2个BERT输入序列。我们将`mlm_positions`定义为在`encoded_X`的任一输入序列中预测的3个指示。`mlm`的前向推断返回`encoded_X`的所有掩蔽位置`mlm_positions`处的预测结果`mlm_Y_hat`。对于每个预测，结果的大小等于词表的大小。\n"
   ]
  },
  {
   "cell_type": "code",
   "execution_count": 7,
   "id": "2d2d56e9",
   "metadata": {
    "execution": {
     "iopub.execute_input": "2022-12-07T16:56:22.725113Z",
     "iopub.status.busy": "2022-12-07T16:56:22.724533Z",
     "iopub.status.idle": "2022-12-07T16:56:22.809993Z",
     "shell.execute_reply": "2022-12-07T16:56:22.808887Z"
    },
    "origin_pos": 23,
    "tab": [
     "pytorch"
    ],
    "ExecuteTime": {
     "end_time": "2023-10-08T02:11:39.334477Z",
     "start_time": "2023-10-08T02:11:39.259460Z"
    }
   },
   "outputs": [
    {
     "data": {
      "text/plain": "torch.Size([2, 3, 10000])"
     },
     "execution_count": 7,
     "metadata": {},
     "output_type": "execute_result"
    }
   ],
   "source": [
    "mlm = MaskLM(vocab_size, num_hiddens)\n",
    "mlm_positions = torch.tensor([[1, 5, 2], [6, 1, 5]])\n",
    "mlm_Y_hat = mlm(encoded_X, mlm_positions)\n",
    "mlm_Y_hat.shape"
   ]
  },
  {
   "cell_type": "markdown",
   "id": "0bd1d0c8",
   "metadata": {
    "origin_pos": 25
   },
   "source": [
    "通过掩码下的预测词元`mlm_Y`的真实标签`mlm_Y_hat`，我们可以计算在BERT预训练中的遮蔽语言模型任务的交叉熵损失。\n"
   ]
  },
  {
   "cell_type": "code",
   "execution_count": 8,
   "id": "07cfc029",
   "metadata": {
    "execution": {
     "iopub.execute_input": "2022-12-07T16:56:22.814760Z",
     "iopub.status.busy": "2022-12-07T16:56:22.814138Z",
     "iopub.status.idle": "2022-12-07T16:56:22.822026Z",
     "shell.execute_reply": "2022-12-07T16:56:22.820968Z"
    },
    "origin_pos": 27,
    "tab": [
     "pytorch"
    ],
    "ExecuteTime": {
     "end_time": "2023-10-08T02:11:43.094139Z",
     "start_time": "2023-10-08T02:11:43.085746Z"
    }
   },
   "outputs": [
    {
     "data": {
      "text/plain": "torch.Size([6])"
     },
     "execution_count": 8,
     "metadata": {},
     "output_type": "execute_result"
    }
   ],
   "source": [
    "mlm_Y = torch.tensor([[7, 8, 9], [10, 20, 30]])\n",
    "loss = nn.CrossEntropyLoss(reduction='none')\n",
    "mlm_l = loss(mlm_Y_hat.reshape((-1, vocab_size)), mlm_Y.reshape(-1))\n",
    "mlm_l.shape"
   ]
  },
  {
   "cell_type": "markdown",
   "id": "dcb78417",
   "metadata": {
    "origin_pos": 29
   },
   "source": [
    "### 下一句预测（Next Sentence Prediction）\n",
    "\n",
    "下面的`NextSentencePred`类使用单隐藏层的多层感知机来预测第二个句子是否是BERT输入序列中第一个句子的下一个句子。由于Transformer编码器中的自注意力，特殊词元“&lt;cls&gt;”的BERT表示已经对输入的两个句子进行了编码。因此，多层感知机分类器的输出层（`self.output`）以`X`作为输入，其中`X`是多层感知机隐藏层的输出，而MLP隐藏层的输入是编码后的“&lt;cls&gt;”词元。\n"
   ]
  },
  {
   "cell_type": "code",
   "execution_count": 9,
   "id": "8b2b6fde",
   "metadata": {
    "execution": {
     "iopub.execute_input": "2022-12-07T16:56:22.827126Z",
     "iopub.status.busy": "2022-12-07T16:56:22.826535Z",
     "iopub.status.idle": "2022-12-07T16:56:22.832153Z",
     "shell.execute_reply": "2022-12-07T16:56:22.831099Z"
    },
    "origin_pos": 31,
    "tab": [
     "pytorch"
    ],
    "ExecuteTime": {
     "end_time": "2023-10-08T02:12:29.974358Z",
     "start_time": "2023-10-08T02:12:29.968855Z"
    }
   },
   "outputs": [],
   "source": [
    "#@save\n",
    "class NextSentencePred(nn.Module):\n",
    "    \"\"\"BERT的下一句预测任务\"\"\"\n",
    "    def __init__(self, num_inputs, **kwargs):\n",
    "        super(NextSentencePred, self).__init__(**kwargs)\n",
    "        self.output = nn.Linear(num_inputs, 2)\n",
    "\n",
    "    def forward(self, X):\n",
    "        # X的形状：(batchsize,num_hiddens)\n",
    "        return self.output(X)"
   ]
  },
  {
   "cell_type": "markdown",
   "id": "1ef154a0",
   "metadata": {
    "origin_pos": 33
   },
   "source": [
    "我们可以看到，`NextSentencePred`实例的前向推断返回每个BERT输入序列的二分类预测。\n"
   ]
  },
  {
   "cell_type": "code",
   "execution_count": 10,
   "id": "ce08a5a5",
   "metadata": {
    "execution": {
     "iopub.execute_input": "2022-12-07T16:56:22.836780Z",
     "iopub.status.busy": "2022-12-07T16:56:22.836186Z",
     "iopub.status.idle": "2022-12-07T16:56:22.843757Z",
     "shell.execute_reply": "2022-12-07T16:56:22.842664Z"
    },
    "origin_pos": 35,
    "tab": [
     "pytorch"
    ],
    "ExecuteTime": {
     "end_time": "2023-10-08T02:13:22.720348Z",
     "start_time": "2023-10-08T02:13:22.712330Z"
    }
   },
   "outputs": [
    {
     "data": {
      "text/plain": "torch.Size([2, 2])"
     },
     "execution_count": 10,
     "metadata": {},
     "output_type": "execute_result"
    }
   ],
   "source": [
    "encoded_X = torch.flatten(encoded_X, start_dim=1)\n",
    "# NSP的输入形状:(batchsize，num_hiddens)\n",
    "nsp = NextSentencePred(encoded_X.shape[-1])\n",
    "nsp_Y_hat = nsp(encoded_X)\n",
    "nsp_Y_hat.shape"
   ]
  },
  {
   "cell_type": "markdown",
   "id": "1a32b204",
   "metadata": {
    "origin_pos": 37
   },
   "source": [
    "还可以计算两个二元分类的交叉熵损失。\n"
   ]
  },
  {
   "cell_type": "code",
   "execution_count": 11,
   "id": "b12258a0",
   "metadata": {
    "execution": {
     "iopub.execute_input": "2022-12-07T16:56:22.848360Z",
     "iopub.status.busy": "2022-12-07T16:56:22.847591Z",
     "iopub.status.idle": "2022-12-07T16:56:22.855031Z",
     "shell.execute_reply": "2022-12-07T16:56:22.853986Z"
    },
    "origin_pos": 39,
    "tab": [
     "pytorch"
    ],
    "ExecuteTime": {
     "end_time": "2023-10-08T02:13:24.844813Z",
     "start_time": "2023-10-08T02:13:24.834905Z"
    }
   },
   "outputs": [
    {
     "data": {
      "text/plain": "torch.Size([2])"
     },
     "execution_count": 11,
     "metadata": {},
     "output_type": "execute_result"
    }
   ],
   "source": [
    "nsp_y = torch.tensor([0, 1])\n",
    "nsp_l = loss(nsp_Y_hat, nsp_y)\n",
    "nsp_l.shape"
   ]
  },
  {
   "cell_type": "markdown",
   "id": "de8d7cb3",
   "metadata": {
    "origin_pos": 41
   },
   "source": [
    "值得注意的是，上述两个预训练任务中的所有标签都可以从预训练语料库中获得，而无需人工标注。原始的BERT已经在图书语料库和英文维基百科的连接上进行了预训练。这两个文本语料库非常庞大：它们分别有8亿个单词和25亿个单词。\n",
    "\n",
    "## 整合代码\n",
    "\n",
    "在预训练BERT时，最终的损失函数是掩蔽语言模型损失函数和下一句预测损失函数的线性组合。现在我们可以通过实例化三个类`BERTEncoder`、`MaskLM`和`NextSentencePred`来定义`BERTModel`类。前向推断返回编码后的BERT表示`encoded_X`、掩蔽语言模型预测`mlm_Y_hat`和下一句预测`nsp_Y_hat`。\n"
   ]
  },
  {
   "cell_type": "code",
   "execution_count": 12,
   "id": "3d24eae6",
   "metadata": {
    "execution": {
     "iopub.execute_input": "2022-12-07T16:56:22.859763Z",
     "iopub.status.busy": "2022-12-07T16:56:22.858988Z",
     "iopub.status.idle": "2022-12-07T16:56:22.867525Z",
     "shell.execute_reply": "2022-12-07T16:56:22.866415Z"
    },
    "origin_pos": 43,
    "tab": [
     "pytorch"
    ],
    "ExecuteTime": {
     "end_time": "2023-10-08T02:13:42.823541Z",
     "start_time": "2023-10-08T02:13:42.807325Z"
    }
   },
   "outputs": [],
   "source": [
    "#@save\n",
    "class BERTModel(nn.Module):\n",
    "    \"\"\"BERT模型\"\"\"\n",
    "    def __init__(self, vocab_size, num_hiddens, norm_shape, ffn_num_input,\n",
    "                 ffn_num_hiddens, num_heads, num_layers, dropout,\n",
    "                 max_len=1000, key_size=768, query_size=768, value_size=768,\n",
    "                 hid_in_features=768, mlm_in_features=768,\n",
    "                 nsp_in_features=768):\n",
    "        super(BERTModel, self).__init__()\n",
    "        self.encoder = BERTEncoder(vocab_size, num_hiddens, norm_shape,\n",
    "                    ffn_num_input, ffn_num_hiddens, num_heads, num_layers,\n",
    "                    dropout, max_len=max_len, key_size=key_size,\n",
    "                    query_size=query_size, value_size=value_size)\n",
    "        self.hidden = nn.Sequential(nn.Linear(hid_in_features, num_hiddens),\n",
    "                                    nn.Tanh())\n",
    "        self.mlm = MaskLM(vocab_size, num_hiddens, mlm_in_features)\n",
    "        self.nsp = NextSentencePred(nsp_in_features)\n",
    "\n",
    "    def forward(self, tokens, segments, valid_lens=None,\n",
    "                pred_positions=None):\n",
    "        encoded_X = self.encoder(tokens, segments, valid_lens)\n",
    "        if pred_positions is not None:\n",
    "            mlm_Y_hat = self.mlm(encoded_X, pred_positions)\n",
    "        else:\n",
    "            mlm_Y_hat = None\n",
    "        # 用于下一句预测的多层感知机分类器的隐藏层，0是“<cls>”标记的索引\n",
    "        nsp_Y_hat = self.nsp(self.hidden(encoded_X[:, 0, :]))\n",
    "        return encoded_X, mlm_Y_hat, nsp_Y_hat"
   ]
  }
 ],
 "metadata": {
  "language_info": {
   "name": "python"
  },
  "kernelspec": {
   "name": "python3",
   "language": "python",
   "display_name": "Python 3 (ipykernel)"
  }
 },
 "nbformat": 4,
 "nbformat_minor": 5
}
