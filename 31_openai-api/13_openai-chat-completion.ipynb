{
 "cells": [
  {
   "cell_type": "markdown",
   "id": "cd669a78-125f-478f-b3d9-677f137d9398",
   "metadata": {},
   "source": [
    "# Chat Completions）\n",
    "使用 Chat Completions API 实现对话任务。Chat Completions 以消息列表作为输入，并返回模型生成的消息作为输出。尽管聊天格式旨在使多轮对话变得简单，但它同样适用于没有任何对话的单轮任务。主要请求参数说明：\n",
    "- **`model` （string，必填）**：要使用的模型ID。有关哪些模型适用于Chat API的详细信息\n",
    "- **`messages` （array，必填）**：迄今为止描述对话的消息列表\n",
    "    - **`role` （string，必填）**：发送此消息的角色。`system` 、`user` 或 `assistant` 之一（一般用 user 发送用户问题，system 发送给模型提示信息）\n",
    "    - **`content` （string，必填）**：消息的内容\n",
    "    - **`name` （string，选填）**：此消息的发送者姓名。可以包含 a-z、A-Z、0-9 和下划线，最大长度为 64 个字符\n",
    "- **`stream` （boolean，选填，是否按流的方式发送内容）**：当它设置为 true 时，API 会以 SSE（ Server Side Event ）方式返回内容。SSE 本质上是一个长链接，会持续不断地输出内容直到完成响应。如果不是做实时聊天，默认false即可。\n",
    "- **`max_tokens` （integer，选填）**：在聊天补全中生成的最大 **tokens** 数，输入token和生成的token的总长度受模型上下文长度的限制。\n",
    "- **`temperature` （number，选填，默认是 1）**：采样温度，在 0和 2 之间。较高的值，如0.8会使输出更随机，而较低的值，如0.2会使其更加集中和确定性。通常建议修改这个（`temperature` ）或者 `top_p` ，但两者不能同时存在，二选一。"
   ]
  },
  {
   "cell_type": "markdown",
   "id": "d00108e4-b98e-4d55-a1e2-78845b321fec",
   "metadata": {},
   "source": [
    "## 开启聊天模式\n",
    "使用 `messages` 记录迄今为止对话的消息列表"
   ]
  },
  {
   "cell_type": "code",
   "execution_count": 13,
   "id": "172f2eb6-2d2b-4d10-9887-5e4af011c77f",
   "metadata": {
    "ExecuteTime": {
     "end_time": "2024-03-25T06:34:40.682758Z",
     "start_time": "2024-03-25T06:34:39.628543Z"
    }
   },
   "outputs": [
    {
     "name": "stdout",
     "output_type": "stream",
     "text": [
      "ChatCompletion(id='chatcmpl-96YCmpQzHWNpGUsFGIkiqLIR8Ptbu', choices=[Choice(finish_reason='stop', index=0, logprobs=None, message=ChatCompletionMessage(content='Hello! How can I help you today?', role='assistant', function_call=None, tool_calls=None))], created=1711348480, model='gpt-3.5-turbo-0125', object='chat.completion', system_fingerprint='fp_3bc1b5746c', usage=CompletionUsage(completion_tokens=9, prompt_tokens=9, total_tokens=18))\n"
     ]
    }
   ],
   "source": [
    "from openai import OpenAI\n",
    "client = OpenAI()\n",
    "\n",
    "messages=[\n",
    "    {\n",
    "        \"role\": \"user\", \n",
    "        \"content\": \"Hello!\"\n",
    "    }\n",
    "]\n",
    "\n",
    "\n",
    "data = client.chat.completions.create(\n",
    "  model=\"gpt-3.5-turbo\",\n",
    "  messages = messages\n",
    ")\n",
    "\n",
    "print(data)"
   ]
  },
  {
   "cell_type": "code",
   "execution_count": 14,
   "id": "d872f47e-b768-4d3e-850f-c2034e2e2263",
   "metadata": {
    "ExecuteTime": {
     "end_time": "2024-03-25T06:34:42.083355Z",
     "start_time": "2024-03-25T06:34:42.079609Z"
    }
   },
   "outputs": [
    {
     "name": "stdout",
     "output_type": "stream",
     "text": [
      "ChatCompletionMessage(content='Hello! How can I help you today?', role='assistant', function_call=None, tool_calls=None)\n"
     ]
    }
   ],
   "source": [
    "# 从返回的数据中获取生成的消息\n",
    "new_message = data.choices[0].message\n",
    "# 打印 new_message\n",
    "print(new_message)"
   ]
  },
  {
   "cell_type": "code",
   "execution_count": 15,
   "id": "ee8c6048-2fed-4a81-90cc-45f526630aad",
   "metadata": {
    "ExecuteTime": {
     "end_time": "2024-03-25T06:34:43.268528Z",
     "start_time": "2024-03-25T06:34:43.265493Z"
    }
   },
   "outputs": [
    {
     "name": "stdout",
     "output_type": "stream",
     "text": [
      "[{'role': 'user', 'content': 'Hello!'}, ChatCompletionMessage(content='Hello! How can I help you today?', role='assistant', function_call=None, tool_calls=None)]\n"
     ]
    }
   ],
   "source": [
    "# 将消息追加到 messages 列表中\n",
    "messages.append(new_message)\n",
    "print(messages)"
   ]
  },
  {
   "cell_type": "code",
   "execution_count": 16,
   "id": "1f88a3a6-c6ad-47a2-a187-40f4e921b54f",
   "metadata": {
    "ExecuteTime": {
     "end_time": "2024-03-25T06:34:44.387954Z",
     "start_time": "2024-03-25T06:34:44.383426Z"
    }
   },
   "outputs": [
    {
     "data": {
      "text/plain": "openai.types.chat.chat_completion_message.ChatCompletionMessage"
     },
     "execution_count": 16,
     "metadata": {},
     "output_type": "execute_result"
    }
   ],
   "source": [
    "type(new_message)"
   ]
  },
  {
   "cell_type": "code",
   "execution_count": 17,
   "id": "4dc4a02b-2c19-4114-bfad-7b8364d1f8fd",
   "metadata": {
    "ExecuteTime": {
     "end_time": "2024-03-25T06:34:45.650341Z",
     "start_time": "2024-03-25T06:34:45.645790Z"
    }
   },
   "outputs": [
    {
     "data": {
      "text/plain": "'assistant'"
     },
     "execution_count": 17,
     "metadata": {},
     "output_type": "execute_result"
    }
   ],
   "source": [
    "new_message.role"
   ]
  },
  {
   "cell_type": "code",
   "execution_count": 18,
   "id": "843e1454-85b9-409f-8a6a-c84fadcab05a",
   "metadata": {
    "ExecuteTime": {
     "end_time": "2024-03-25T06:34:46.892820Z",
     "start_time": "2024-03-25T06:34:46.888279Z"
    }
   },
   "outputs": [
    {
     "data": {
      "text/plain": "'Hello! How can I help you today?'"
     },
     "execution_count": 18,
     "metadata": {},
     "output_type": "execute_result"
    }
   ],
   "source": [
    "new_message.content"
   ]
  },
  {
   "cell_type": "code",
   "execution_count": 19,
   "id": "626586e5-55c0-4b1c-8dc4-175edab9b7c4",
   "metadata": {
    "ExecuteTime": {
     "end_time": "2024-03-25T06:34:49.789052Z",
     "start_time": "2024-03-25T06:34:49.784708Z"
    }
   },
   "outputs": [
    {
     "data": {
      "text/plain": "ChatCompletionMessage(content='Hello! How can I help you today?', role='assistant', function_call=None, tool_calls=None)"
     },
     "execution_count": 19,
     "metadata": {},
     "output_type": "execute_result"
    }
   ],
   "source": [
    "messages.pop()"
   ]
  },
  {
   "cell_type": "code",
   "execution_count": 20,
   "id": "bbf5b445-f0b2-422c-befd-2738982903d4",
   "metadata": {
    "ExecuteTime": {
     "end_time": "2024-03-25T06:34:54.981418Z",
     "start_time": "2024-03-25T06:34:54.977965Z"
    }
   },
   "outputs": [
    {
     "name": "stdout",
     "output_type": "stream",
     "text": [
      "[{'role': 'user', 'content': 'Hello!'}]\n"
     ]
    }
   ],
   "source": [
    "print(messages)"
   ]
  },
  {
   "cell_type": "markdown",
   "id": "5a9d6f7b-09fd-4bed-bcde-2ab50d3d415c",
   "metadata": {},
   "source": [
    "#### Prompt: OpenAIObject -> Dict\n",
    "\n",
    "```\n",
    "打印 messages 列表后发现数据类型不对，messages 输出如下：\n",
    "\n",
    "print(messages)\n",
    "\n",
    "[{'role': 'user', 'content': 'Hello!'}, <OpenAIObject at 0x7f27582c13f0> JSON: {\n",
    "  \"content\": \"Hello! How can I assist you today?\",\n",
    "  \"role\": \"assistant\"\n",
    "}]\n",
    "\n",
    "将OpenAIObject 转换为一个如下数据类型格式：\n",
    "\n",
    "    {\n",
    "        \"role\": \"user\", \n",
    "        \"content\": \"Hello!\"\n",
    "    }\n",
    "```"
   ]
  },
  {
   "cell_type": "code",
   "execution_count": 21,
   "id": "8d9052f8-88ef-4b71-8fa8-42bff7304537",
   "metadata": {
    "ExecuteTime": {
     "end_time": "2024-03-25T06:34:59.864399Z",
     "start_time": "2024-03-25T06:34:59.859665Z"
    }
   },
   "outputs": [
    {
     "data": {
      "text/plain": "dict"
     },
     "execution_count": 21,
     "metadata": {},
     "output_type": "execute_result"
    }
   ],
   "source": [
    "new_message = data.choices[0].message\n",
    "new_message_dict = {\"role\": new_message.role, \"content\": new_message.content}\n",
    "type(new_message_dict)"
   ]
  },
  {
   "cell_type": "code",
   "execution_count": 22,
   "id": "699416f3-ee26-432a-8ad5-27b151f24846",
   "metadata": {
    "ExecuteTime": {
     "end_time": "2024-03-25T06:35:01.336452Z",
     "start_time": "2024-03-25T06:35:01.333392Z"
    }
   },
   "outputs": [
    {
     "name": "stdout",
     "output_type": "stream",
     "text": [
      "{'role': 'assistant', 'content': 'Hello! How can I help you today?'}\n"
     ]
    }
   ],
   "source": [
    "print(new_message_dict)"
   ]
  },
  {
   "cell_type": "code",
   "execution_count": 23,
   "id": "7a11a2c6-3f2b-4c35-b987-f396f839da7c",
   "metadata": {
    "ExecuteTime": {
     "end_time": "2024-03-25T06:35:05.875046Z",
     "start_time": "2024-03-25T06:35:05.871086Z"
    }
   },
   "outputs": [
    {
     "name": "stdout",
     "output_type": "stream",
     "text": [
      "[{'role': 'user', 'content': 'Hello!'}, {'role': 'assistant', 'content': 'Hello! How can I help you today?'}]\n"
     ]
    }
   ],
   "source": [
    "# 将消息追加到 messages 列表中\n",
    "messages.append(new_message_dict)\n",
    "\n",
    "print(messages)"
   ]
  },
  {
   "cell_type": "markdown",
   "id": "f7a5d741-5b2e-4f1a-8a74-e3b559874079",
   "metadata": {},
   "source": [
    "## 新一轮对话"
   ]
  },
  {
   "cell_type": "code",
   "execution_count": 24,
   "id": "ad2e089b-ba80-477b-92d1-c183f11082c8",
   "metadata": {
    "ExecuteTime": {
     "end_time": "2024-03-25T06:35:44.060089Z",
     "start_time": "2024-03-25T06:35:44.055900Z"
    }
   },
   "outputs": [
    {
     "name": "stdout",
     "output_type": "stream",
     "text": [
      "[{'content': 'Hello!', 'role': 'user'},\n",
      " {'content': 'Hello! How can I help you today?', 'role': 'assistant'},\n",
      " {'content': '1.讲一个程序员才听得懂的冷笑话；2.今天是几号？3.明天星期几？', 'role': 'user'}]\n"
     ]
    }
   ],
   "source": [
    "new_chat = {\n",
    "    \"role\": \"user\",\n",
    "    \"content\": \"1.讲一个程序员才听得懂的冷笑话；2.今天是几号？3.明天星期几？\"\n",
    "}\n",
    "\n",
    "messages.append(new_chat)\n",
    "from pprint import pprint\n",
    "\n",
    "pprint(messages)"
   ]
  },
  {
   "cell_type": "code",
   "execution_count": 25,
   "id": "54b0532a-0099-40e3-8a3d-9dc72d6eccbd",
   "metadata": {
    "ExecuteTime": {
     "end_time": "2024-03-25T06:36:14.739193Z",
     "start_time": "2024-03-25T06:36:12.632243Z"
    }
   },
   "outputs": [
    {
     "name": "stdout",
     "output_type": "stream",
     "text": [
      "ChatCompletionMessage(content='1. 为什么程序员喜欢黑色的衣服？\\n   因为黑色背景下的代码更容易看清楚！\\n\\n2. 今天是几号？请问您的当前时区和具体时间是多少？\\n\\n3. 明天星期几？同样需要知道您的当前时区和具体时间是多少。', role='assistant', function_call=None, tool_calls=None)\n"
     ]
    }
   ],
   "source": [
    "data = client.chat.completions.create(\n",
    "  model=\"gpt-3.5-turbo\",\n",
    "  messages=messages\n",
    ")\n",
    "\n",
    "new_message = data.choices[0].message\n",
    "print(new_message)"
   ]
  },
  {
   "cell_type": "code",
   "execution_count": 26,
   "id": "bedc91c2-4216-4686-b66c-df012a9778c8",
   "metadata": {
    "ExecuteTime": {
     "end_time": "2024-03-25T06:36:36.099539Z",
     "start_time": "2024-03-25T06:36:36.096463Z"
    }
   },
   "outputs": [
    {
     "name": "stdout",
     "output_type": "stream",
     "text": [
      "1. 为什么程序员喜欢黑色的衣服？\n",
      "   因为黑色背景下的代码更容易看清楚！\n",
      "\n",
      "2. 今天是几号？请问您的当前时区和具体时间是多少？\n",
      "\n",
      "3. 明天星期几？同样需要知道您的当前时区和具体时间是多少。\n"
     ]
    }
   ],
   "source": [
    "# 打印 new_messages 内容\n",
    "print(new_message.content)"
   ]
  },
  {
   "cell_type": "markdown",
   "id": "7f417580-7810-4f0e-ad5c-6d2e0f9e7f42",
   "metadata": {},
   "source": [
    "## 使用多 Role 聊天对话\n",
    "目前`role`参数支持3类身份： `system`, `user` `assistant`:"
   ]
  },
  {
   "cell_type": "code",
   "execution_count": 27,
   "id": "0981fe4b-410d-4d70-b07c-78a88e46b7af",
   "metadata": {
    "ExecuteTime": {
     "end_time": "2024-03-25T06:38:23.337308Z",
     "start_time": "2024-03-25T06:38:20.750366Z"
    }
   },
   "outputs": [
    {
     "name": "stdout",
     "output_type": "stream",
     "text": [
      "2008年夏季奥林匹克运动会是在中国的北京举行的。\n"
     ]
    }
   ],
   "source": [
    "import openai\n",
    "\n",
    "# 构造聊天记录\n",
    "messages=[\n",
    "    {\"role\": \"system\", \"content\": \"你是一个乐于助人的体育界专家。\"},\n",
    "    {\"role\": \"user\", \"content\": \"2008年奥运会是在哪里举行的？\"},\n",
    "]\n",
    "\n",
    "data = client.chat.completions.create(\n",
    "  model=\"gpt-3.5-turbo\",\n",
    "  messages=messages\n",
    ")\n",
    "\n",
    "message = data.choices[0].message.content\n",
    "print(message)"
   ]
  },
  {
   "cell_type": "code",
   "execution_count": 28,
   "id": "fd56c185-b6e0-4ade-8236-9e2549182ab2",
   "metadata": {
    "ExecuteTime": {
     "end_time": "2024-03-25T06:38:52.669394Z",
     "start_time": "2024-03-25T06:38:52.664432Z"
    }
   },
   "outputs": [
    {
     "data": {
      "text/plain": "[{'role': 'system', 'content': '你是一个乐于助人的体育界专家。'},\n {'role': 'user', 'content': '2008年奥运会是在哪里举行的？'},\n {'role': 'assistant', 'content': '2008年夏季奥林匹克运动会是在中国的北京举行的。'}]"
     },
     "execution_count": 28,
     "metadata": {},
     "output_type": "execute_result"
    }
   ],
   "source": [
    "# 添加 GPT 返回结果到聊天记录\n",
    "messages.append({\"role\": \"assistant\", \"content\": message})\n",
    "messages"
   ]
  },
  {
   "cell_type": "code",
   "execution_count": 30,
   "id": "99bae857-2854-4090-8a4d-8e1930f70464",
   "metadata": {
    "ExecuteTime": {
     "end_time": "2024-03-25T06:40:04.190130Z",
     "start_time": "2024-03-25T06:40:04.185265Z"
    }
   },
   "outputs": [
    {
     "data": {
      "text/plain": "[{'role': 'system', 'content': '你是一个乐于助人的体育界专家。'},\n {'role': 'user', 'content': '2008年奥运会是在哪里举行的？'},\n {'role': 'assistant', 'content': '2008年夏季奥林匹克运动会是在中国的北京举行的。'},\n {'role': 'user', 'content': '1.金牌最多的是哪个国家？2.奖牌最多的是哪个国家？'},\n {'role': 'user', 'content': '1.金牌最多的是哪个国家？2.奖牌最多的是哪个国家？'}]"
     },
     "execution_count": 30,
     "metadata": {},
     "output_type": "execute_result"
    }
   ],
   "source": [
    "# 第二轮对话\n",
    "messages.append({\"role\": \"user\", \"content\": \"1.金牌最多的是哪个国家？2.奖牌最多的是哪个国家？\"})\n",
    "\n",
    "messages"
   ]
  },
  {
   "cell_type": "code",
   "execution_count": 31,
   "id": "a138da7f-b5b3-40a1-b30b-4e6b0c8e249f",
   "metadata": {
    "ExecuteTime": {
     "end_time": "2024-03-25T06:40:11.130782Z",
     "start_time": "2024-03-25T06:40:08.191098Z"
    }
   },
   "outputs": [
    {
     "name": "stdout",
     "output_type": "stream",
     "text": [
      "1. 2008年北京奥运会中，金牌最多的国家是中国，他们获得了51枚金牌。\n",
      "2. 2008年北京奥运会中，总奖牌数最多的国家同样是中国，共获得100枚奖牌（51枚金牌、21枚银牌、28枚铜牌）。\n"
     ]
    }
   ],
   "source": [
    "data = client.chat.completions.create(\n",
    "  model=\"gpt-3.5-turbo\",\n",
    "  messages=messages\n",
    ")\n",
    "\n",
    "message = data.choices[0].message.content\n",
    "print(message)"
   ]
  },
  {
   "cell_type": "code",
   "execution_count": 32,
   "id": "3500811e-3a80-4ed0-9770-a1f761dfab6b",
   "metadata": {
    "ExecuteTime": {
     "end_time": "2024-03-25T06:40:30.921235Z",
     "start_time": "2024-03-25T06:40:28.892773Z"
    }
   },
   "outputs": [
    {
     "data": {
      "text/plain": "'1. 美国是历届夏季奥运会金牌最多的国家，总共获得了1090枚金牌。\\n2. 美国是历届夏季奥运会奖牌最多的国家，总共获得了2684枚奖牌。'"
     },
     "execution_count": 32,
     "metadata": {},
     "output_type": "execute_result"
    }
   ],
   "source": [
    "data = client.chat.completions.create(\n",
    "  model=\"gpt-3.5-turbo\",\n",
    "  messages=[{'role': 'user', 'content': '1.金牌最多的是哪个国家？2.奖牌最多的是哪个国家？'}]\n",
    ")\n",
    "\n",
    "data.choices[0].message.content"
   ]
  }
 ],
 "metadata": {
  "kernelspec": {
   "display_name": "Python 3 (ipykernel)",
   "language": "python",
   "name": "python3"
  },
  "language_info": {
   "codemirror_mode": {
    "name": "ipython",
    "version": 3
   },
   "file_extension": ".py",
   "mimetype": "text/x-python",
   "name": "python",
   "nbconvert_exporter": "python",
   "pygments_lexer": "ipython3",
   "version": "3.10.11"
  }
 },
 "nbformat": 4,
 "nbformat_minor": 5
}
