{
 "cells": [
  {
   "cell_type": "markdown",
   "id": "bb04f1a2-1f87-42e6-a5ad-453eec40215f",
   "metadata": {},
   "source": [
    "# OpenAI\n",
    "## Models API\n",
    "使用 Models API 查看和访问 OpenAI 提供的预训练大语言模型"
   ]
  },
  {
   "cell_type": "markdown",
   "id": "7466990e-c2ac-441c-a545-fdc122e752ca",
   "metadata": {},
   "source": [
    "### List Models\n",
    "列出当前可用的模型，并提供每个模型的基本信息，如所有者和可用性。"
   ]
  },
  {
   "cell_type": "code",
   "execution_count": 3,
   "id": "f453ab0c-b262-4fa5-993e-b4b341e46a94",
   "metadata": {
    "ExecuteTime": {
     "end_time": "2024-03-25T06:17:38.996940Z",
     "start_time": "2024-03-25T06:17:38.626909Z"
    }
   },
   "outputs": [
    {
     "name": "stdout",
     "output_type": "stream",
     "text": [
      "SyncPage[Model](data=[Model(id='gpt-3.5-turbo-1106', created=1698959748, object='model', owned_by='system'), Model(id='dall-e-3', created=1698785189, object='model', owned_by='system'), Model(id='gpt-4-0613', created=1686588896, object='model', owned_by='openai'), Model(id='dall-e-2', created=1698798177, object='model', owned_by='system'), Model(id='gpt-3.5-turbo-0125', created=1706048358, object='model', owned_by='system'), Model(id='gpt-4', created=1687882411, object='model', owned_by='openai'), Model(id='whisper-1', created=1677532384, object='model', owned_by='openai-internal'), Model(id='tts-1-hd-1106', created=1699053533, object='model', owned_by='system'), Model(id='gpt-3.5-turbo', created=1677610602, object='model', owned_by='openai'), Model(id='tts-1-hd', created=1699046015, object='model', owned_by='system'), Model(id='gpt-4-0125-preview', created=1706037612, object='model', owned_by='system'), Model(id='gpt-4-turbo-preview', created=1706037777, object='model', owned_by='system'), Model(id='text-embedding-3-large', created=1705953180, object='model', owned_by='system'), Model(id='gpt-3.5-turbo-0301', created=1677649963, object='model', owned_by='openai'), Model(id='gpt-3.5-turbo-0613', created=1686587434, object='model', owned_by='openai'), Model(id='gpt-4-vision-preview', created=1698894917, object='model', owned_by='system'), Model(id='gpt-3.5-turbo-16k-0613', created=1685474247, object='model', owned_by='openai'), Model(id='gpt-3.5-turbo-16k', created=1683758102, object='model', owned_by='openai-internal'), Model(id='gpt-4-1106-preview', created=1698957206, object='model', owned_by='system'), Model(id='gpt-3.5-turbo-instruct', created=1692901427, object='model', owned_by='system'), Model(id='gpt-3.5-turbo-instruct-0914', created=1694122472, object='model', owned_by='system'), Model(id='tts-1', created=1681940951, object='model', owned_by='openai-internal'), Model(id='davinci-002', created=1692634301, object='model', owned_by='system'), Model(id='babbage-002', created=1692634615, object='model', owned_by='system'), Model(id='tts-1-1106', created=1699053241, object='model', owned_by='system'), Model(id='text-embedding-ada-002', created=1671217299, object='model', owned_by='openai-internal'), Model(id='text-embedding-3-small', created=1705948997, object='model', owned_by='system')], object='list')\n"
     ]
    }
   ],
   "source": [
    "import os\n",
    "from openai import OpenAI\n",
    "\n",
    "client = OpenAI()\n",
    "models = client.models.list()\n",
    "print(models)"
   ]
  },
  {
   "cell_type": "code",
   "execution_count": 4,
   "id": "82922dd9-f38e-4ec1-8be0-361aefb99d7b",
   "metadata": {
    "collapsed": true,
    "jupyter": {
     "outputs_hidden": true
    },
    "ExecuteTime": {
     "end_time": "2024-03-25T06:17:50.787494Z",
     "start_time": "2024-03-25T06:17:50.780216Z"
    }
   },
   "outputs": [
    {
     "data": {
      "text/plain": "[Model(id='gpt-3.5-turbo-1106', created=1698959748, object='model', owned_by='system'),\n Model(id='dall-e-3', created=1698785189, object='model', owned_by='system'),\n Model(id='gpt-4-0613', created=1686588896, object='model', owned_by='openai'),\n Model(id='dall-e-2', created=1698798177, object='model', owned_by='system'),\n Model(id='gpt-3.5-turbo-0125', created=1706048358, object='model', owned_by='system'),\n Model(id='gpt-4', created=1687882411, object='model', owned_by='openai'),\n Model(id='whisper-1', created=1677532384, object='model', owned_by='openai-internal'),\n Model(id='tts-1-hd-1106', created=1699053533, object='model', owned_by='system'),\n Model(id='gpt-3.5-turbo', created=1677610602, object='model', owned_by='openai'),\n Model(id='tts-1-hd', created=1699046015, object='model', owned_by='system'),\n Model(id='gpt-4-0125-preview', created=1706037612, object='model', owned_by='system'),\n Model(id='gpt-4-turbo-preview', created=1706037777, object='model', owned_by='system'),\n Model(id='text-embedding-3-large', created=1705953180, object='model', owned_by='system'),\n Model(id='gpt-3.5-turbo-0301', created=1677649963, object='model', owned_by='openai'),\n Model(id='gpt-3.5-turbo-0613', created=1686587434, object='model', owned_by='openai'),\n Model(id='gpt-4-vision-preview', created=1698894917, object='model', owned_by='system'),\n Model(id='gpt-3.5-turbo-16k-0613', created=1685474247, object='model', owned_by='openai'),\n Model(id='gpt-3.5-turbo-16k', created=1683758102, object='model', owned_by='openai-internal'),\n Model(id='gpt-4-1106-preview', created=1698957206, object='model', owned_by='system'),\n Model(id='gpt-3.5-turbo-instruct', created=1692901427, object='model', owned_by='system'),\n Model(id='gpt-3.5-turbo-instruct-0914', created=1694122472, object='model', owned_by='system'),\n Model(id='tts-1', created=1681940951, object='model', owned_by='openai-internal'),\n Model(id='davinci-002', created=1692634301, object='model', owned_by='system'),\n Model(id='babbage-002', created=1692634615, object='model', owned_by='system'),\n Model(id='tts-1-1106', created=1699053241, object='model', owned_by='system'),\n Model(id='text-embedding-ada-002', created=1671217299, object='model', owned_by='openai-internal'),\n Model(id='text-embedding-3-small', created=1705948997, object='model', owned_by='system')]"
     },
     "execution_count": 4,
     "metadata": {},
     "output_type": "execute_result"
    }
   ],
   "source": [
    "models.data"
   ]
  },
  {
   "cell_type": "markdown",
   "id": "774e3a12-01f6-44ad-8829-03510f5d9df6",
   "metadata": {},
   "source": [
    "### 获取模型 ID 列表"
   ]
  },
  {
   "cell_type": "code",
   "execution_count": 5,
   "id": "dd351597-b055-4d30-aa0b-b5e468f7b924",
   "metadata": {
    "ExecuteTime": {
     "end_time": "2024-03-25T06:18:32.191677Z",
     "start_time": "2024-03-25T06:18:32.187938Z"
    }
   },
   "outputs": [
    {
     "data": {
      "text/plain": "'gpt-3.5-turbo-1106'"
     },
     "execution_count": 5,
     "metadata": {},
     "output_type": "execute_result"
    }
   ],
   "source": [
    "models.data[0].id"
   ]
  },
  {
   "cell_type": "code",
   "execution_count": 7,
   "id": "fdb8752e-bcb8-4732-a037-1835861c20a7",
   "metadata": {
    "ExecuteTime": {
     "end_time": "2024-03-25T06:18:47.363901Z",
     "start_time": "2024-03-25T06:18:47.360323Z"
    }
   },
   "outputs": [
    {
     "name": "stdout",
     "output_type": "stream",
     "text": [
      "['gpt-3.5-turbo-1106', 'dall-e-3', 'gpt-4-0613', 'dall-e-2', 'gpt-3.5-turbo-0125', 'gpt-4', 'whisper-1', 'tts-1-hd-1106', 'gpt-3.5-turbo', 'tts-1-hd', 'gpt-4-0125-preview', 'gpt-4-turbo-preview', 'text-embedding-3-large', 'gpt-3.5-turbo-0301', 'gpt-3.5-turbo-0613', 'gpt-4-vision-preview', 'gpt-3.5-turbo-16k-0613', 'gpt-3.5-turbo-16k', 'gpt-4-1106-preview', 'gpt-3.5-turbo-instruct', 'gpt-3.5-turbo-instruct-0914', 'tts-1', 'davinci-002', 'babbage-002', 'tts-1-1106', 'text-embedding-ada-002', 'text-embedding-3-small']\n"
     ]
    }
   ],
   "source": [
    "model_list = [model.id for model in models.data]\n",
    "print(model_list)"
   ]
  },
  {
   "cell_type": "markdown",
   "id": "75d2a270-949c-4ad2-a568-e254e6231333",
   "metadata": {},
   "source": [
    "## Retrieve Model\n",
    "获取模型实例，提供有关模型的基本信息，例如所有者和权限设置。以`text-davinci-003`模型为例，解释说明各项参数：\n",
    "1. `created`: 这是模型创建的时间戳，单位为 Unix 时间戳（自1970年1月1日（00:00:00 GMT）以后的秒数）。\n",
    "2. `id`: 这是模型的唯一标识符。在这个例子中，模型的 ID 是 \"gpt-3.5-turbo-0125\"。\n",
    "3. `object`: 这个字段表示的是当前对象的类型，在这个例子中，对象是 \"model\"，说明这个 JSON 对象是一个模型。\n",
    "4. `owned_by`: 这个字段表示的是模型的所有者，在这个例子中，模型的所有者是 \"openai-internal\"。"
   ]
  },
  {
   "cell_type": "code",
   "execution_count": 10,
   "id": "6fd7eca9-ed5a-4bca-8f9c-a0bf36177d31",
   "metadata": {
    "ExecuteTime": {
     "end_time": "2024-03-25T06:20:48.375703Z",
     "start_time": "2024-03-25T06:20:48.038275Z"
    }
   },
   "outputs": [
    {
     "name": "stdout",
     "output_type": "stream",
     "text": [
      "Model(id='gpt-3.5-turbo-0125', created=1706048358, object='model', owned_by='system')\n"
     ]
    }
   ],
   "source": [
    "from openai import OpenAI\n",
    "\n",
    "client = OpenAI()\n",
    "gpt_35 = client.models.retrieve(\"gpt-3.5-turbo-0125\")\n",
    "print(gpt_35)"
   ]
  },
  {
   "cell_type": "markdown",
   "id": "67bd0916-d771-4745-85bb-28be33806d89",
   "metadata": {},
   "source": [
    "### 获取指定模型，如 GPT-4V"
   ]
  },
  {
   "cell_type": "code",
   "execution_count": 11,
   "id": "2ea16de8-add9-4ad4-b5b9-ebb959d7ab7f",
   "metadata": {
    "ExecuteTime": {
     "end_time": "2024-03-25T06:21:55.905228Z",
     "start_time": "2024-03-25T06:21:55.566357Z"
    }
   },
   "outputs": [
    {
     "data": {
      "text/plain": "Model(id='gpt-4-vision-preview', created=1698894917, object='model', owned_by='system')"
     },
     "execution_count": 11,
     "metadata": {},
     "output_type": "execute_result"
    }
   ],
   "source": [
    "client.models.retrieve(\"gpt-4-vision-preview\")"
   ]
  }
 ],
 "metadata": {
  "kernelspec": {
   "display_name": "Python 3 (ipykernel)",
   "language": "python",
   "name": "python3"
  },
  "language_info": {
   "codemirror_mode": {
    "name": "ipython",
    "version": 3
   },
   "file_extension": ".py",
   "mimetype": "text/x-python",
   "name": "python",
   "nbconvert_exporter": "python",
   "pygments_lexer": "ipython3",
   "version": "3.10.11"
  }
 },
 "nbformat": 4,
 "nbformat_minor": 5
}
